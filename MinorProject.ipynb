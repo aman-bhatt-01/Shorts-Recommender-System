{
 "cells": [
  {
   "cell_type": "code",
   "execution_count": 2,
   "id": "ccaabfc9-ddb7-4441-a0f0-d67cf75fe785",
   "metadata": {},
   "outputs": [],
   "source": [
    "import numpy as np\n",
    "import pandas as pd"
   ]
  },
  {
   "cell_type": "code",
   "execution_count": 3,
   "id": "bd43c8f1-7a67-40cc-aa1d-53f5f5d5127b",
   "metadata": {},
   "outputs": [],
   "source": [
    "shorts = pd.read_csv('shorts_dataset.csv')"
   ]
  },
  {
   "cell_type": "code",
   "execution_count": 4,
   "id": "6515d3c6-a966-4416-93b3-9aa98c9f8001",
   "metadata": {},
   "outputs": [
    {
     "data": {
      "text/html": [
       "<div>\n",
       "<style scoped>\n",
       "    .dataframe tbody tr th:only-of-type {\n",
       "        vertical-align: middle;\n",
       "    }\n",
       "\n",
       "    .dataframe tbody tr th {\n",
       "        vertical-align: top;\n",
       "    }\n",
       "\n",
       "    .dataframe thead th {\n",
       "        text-align: right;\n",
       "    }\n",
       "</style>\n",
       "<table border=\"1\" class=\"dataframe\">\n",
       "  <thead>\n",
       "    <tr style=\"text-align: right;\">\n",
       "      <th></th>\n",
       "      <th>id</th>\n",
       "      <th>genre</th>\n",
       "      <th>title</th>\n",
       "      <th>keywords</th>\n",
       "      <th>hashtags</th>\n",
       "      <th>channel_name</th>\n",
       "    </tr>\n",
       "  </thead>\n",
       "  <tbody>\n",
       "    <tr>\n",
       "      <th>0</th>\n",
       "      <td>yZH6NYQjlEE</td>\n",
       "      <td>Motivation</td>\n",
       "      <td>Little girl asks Dr. Abdul Kalam's SUCCESS MAN...</td>\n",
       "      <td>Motivation</td>\n",
       "      <td>#Motivation</td>\n",
       "      <td>@captiontree</td>\n",
       "    </tr>\n",
       "  </tbody>\n",
       "</table>\n",
       "</div>"
      ],
      "text/plain": [
       "            id        genre  \\\n",
       "0  yZH6NYQjlEE  Motivation    \n",
       "\n",
       "                                               title    keywords     hashtags  \\\n",
       "0  Little girl asks Dr. Abdul Kalam's SUCCESS MAN...  Motivation  #Motivation   \n",
       "\n",
       "   channel_name  \n",
       "0  @captiontree  "
      ]
     },
     "execution_count": 4,
     "metadata": {},
     "output_type": "execute_result"
    }
   ],
   "source": [
    "shorts.head(1)"
   ]
  },
  {
   "cell_type": "code",
   "execution_count": 5,
   "id": "aeb0142c-0d47-4990-b9dd-49195b9655d5",
   "metadata": {},
   "outputs": [
    {
     "data": {
      "text/plain": [
       "id              0\n",
       "genre           0\n",
       "title           0\n",
       "keywords        0\n",
       "hashtags        0\n",
       "channel_name    0\n",
       "dtype: int64"
      ]
     },
     "execution_count": 5,
     "metadata": {},
     "output_type": "execute_result"
    }
   ],
   "source": [
    "shorts.isnull().sum()"
   ]
  },
  {
   "cell_type": "code",
   "execution_count": 6,
   "id": "5c680057-5650-489e-8df3-d77c660077d9",
   "metadata": {},
   "outputs": [],
   "source": [
    "shorts.dropna(inplace = True)"
   ]
  },
  {
   "cell_type": "code",
   "execution_count": 7,
   "id": "c94eaa70-2900-42ce-97cd-0b5f5adb1ca6",
   "metadata": {},
   "outputs": [
    {
     "data": {
      "text/plain": [
       "0"
      ]
     },
     "execution_count": 7,
     "metadata": {},
     "output_type": "execute_result"
    }
   ],
   "source": [
    "shorts.duplicated().sum()"
   ]
  },
  {
   "cell_type": "code",
   "execution_count": 8,
   "id": "5fd81261-5fcd-456e-b93a-74740f74aac8",
   "metadata": {},
   "outputs": [
    {
     "data": {
      "text/html": [
       "<div>\n",
       "<style scoped>\n",
       "    .dataframe tbody tr th:only-of-type {\n",
       "        vertical-align: middle;\n",
       "    }\n",
       "\n",
       "    .dataframe tbody tr th {\n",
       "        vertical-align: top;\n",
       "    }\n",
       "\n",
       "    .dataframe thead th {\n",
       "        text-align: right;\n",
       "    }\n",
       "</style>\n",
       "<table border=\"1\" class=\"dataframe\">\n",
       "  <thead>\n",
       "    <tr style=\"text-align: right;\">\n",
       "      <th></th>\n",
       "      <th>id</th>\n",
       "      <th>genre</th>\n",
       "      <th>title</th>\n",
       "      <th>keywords</th>\n",
       "      <th>hashtags</th>\n",
       "      <th>channel_name</th>\n",
       "    </tr>\n",
       "  </thead>\n",
       "  <tbody>\n",
       "    <tr>\n",
       "      <th>0</th>\n",
       "      <td>yZH6NYQjlEE</td>\n",
       "      <td>Motivation</td>\n",
       "      <td>Little girl asks Dr. Abdul Kalam's SUCCESS MAN...</td>\n",
       "      <td>Motivation</td>\n",
       "      <td>#Motivation</td>\n",
       "      <td>@captiontree</td>\n",
       "    </tr>\n",
       "    <tr>\n",
       "      <th>1</th>\n",
       "      <td>Ru8p2DNJCaU</td>\n",
       "      <td>News</td>\n",
       "      <td>palki sharma's reply to a foreign journalist</td>\n",
       "      <td>News update</td>\n",
       "      <td>#indiangdp</td>\n",
       "      <td>@motivationfactory.s23</td>\n",
       "    </tr>\n",
       "    <tr>\n",
       "      <th>2</th>\n",
       "      <td>GmtOXCP5ogE</td>\n",
       "      <td>Knowledge</td>\n",
       "      <td>What is Recession? | Nitish Rajput |</td>\n",
       "      <td>Recession</td>\n",
       "      <td>#indiangdp</td>\n",
       "      <td>@nitishrajputshorts</td>\n",
       "    </tr>\n",
       "    <tr>\n",
       "      <th>3</th>\n",
       "      <td>ysvzPpgeQ1o</td>\n",
       "      <td>Facts</td>\n",
       "      <td>How silicon valley manipulate every person</td>\n",
       "      <td>Knowledge</td>\n",
       "      <td>#shorts</td>\n",
       "      <td>@nitishrajputshorts</td>\n",
       "    </tr>\n",
       "    <tr>\n",
       "      <th>4</th>\n",
       "      <td>CDFX9HG7yiM</td>\n",
       "      <td>Experiments</td>\n",
       "      <td>Did we just defy the gravity?</td>\n",
       "      <td>teaching</td>\n",
       "      <td>#theoryofphysics #eddycurrent</td>\n",
       "      <td>@Theory_of_Physics</td>\n",
       "    </tr>\n",
       "  </tbody>\n",
       "</table>\n",
       "</div>"
      ],
      "text/plain": [
       "            id        genre  \\\n",
       "0  yZH6NYQjlEE  Motivation    \n",
       "1  Ru8p2DNJCaU         News   \n",
       "2  GmtOXCP5ogE   Knowledge    \n",
       "3  ysvzPpgeQ1o        Facts   \n",
       "4  CDFX9HG7yiM  Experiments   \n",
       "\n",
       "                                               title     keywords  \\\n",
       "0  Little girl asks Dr. Abdul Kalam's SUCCESS MAN...   Motivation   \n",
       "1       palki sharma's reply to a foreign journalist  News update   \n",
       "2               What is Recession? | Nitish Rajput |    Recession   \n",
       "3         How silicon valley manipulate every person    Knowledge   \n",
       "4                      Did we just defy the gravity?     teaching   \n",
       "\n",
       "                        hashtags            channel_name  \n",
       "0                    #Motivation            @captiontree  \n",
       "1                     #indiangdp  @motivationfactory.s23  \n",
       "2                     #indiangdp     @nitishrajputshorts  \n",
       "3                        #shorts     @nitishrajputshorts  \n",
       "4  #theoryofphysics #eddycurrent      @Theory_of_Physics  "
      ]
     },
     "execution_count": 8,
     "metadata": {},
     "output_type": "execute_result"
    }
   ],
   "source": [
    "shorts.head()"
   ]
  },
  {
   "cell_type": "code",
   "execution_count": 9,
   "id": "8759fc9b-8bc9-4435-8c8f-e85816425edb",
   "metadata": {},
   "outputs": [],
   "source": [
    "shorts['title'] = shorts['title'].apply(lambda x:[ s for s in x if s.isalnum() or s.isspace()])\n",
    "shorts['hashtags'] = shorts['hashtags'].apply(lambda x:[ s for s in x if s.isalnum() or s.isspace()])"
   ]
  },
  {
   "cell_type": "code",
   "execution_count": 10,
   "id": "39d90961-3ffe-421d-b978-35de0c069d50",
   "metadata": {},
   "outputs": [],
   "source": [
    "shorts['title'] = shorts['title'].apply(lambda x: \"\".join(x))\n",
    "shorts['hashtags'] = shorts['hashtags'].apply(lambda x: \"\".join(x))"
   ]
  },
  {
   "cell_type": "code",
   "execution_count": 11,
   "id": "e0c35130-f8b7-4261-9d58-75977d2134b1",
   "metadata": {},
   "outputs": [],
   "source": [
    "shorts['keywords'] = shorts['keywords'].apply(lambda x: x.split())\n",
    "shorts['hashtags'] = shorts['hashtags'].apply(lambda x: x.split())\n",
    "shorts['title'] = shorts['title'].apply(lambda x: x.split())\n",
    "shorts['genre'] = shorts['genre'].apply(lambda x: x.split())\n",
    "shorts['channel_name'] = shorts['channel_name'].apply(lambda x: x.split())"
   ]
  },
  {
   "cell_type": "code",
   "execution_count": 12,
   "id": "65539580-e1ba-4d7e-ab83-4e1a8b9776af",
   "metadata": {},
   "outputs": [
    {
     "data": {
      "text/html": [
       "<div>\n",
       "<style scoped>\n",
       "    .dataframe tbody tr th:only-of-type {\n",
       "        vertical-align: middle;\n",
       "    }\n",
       "\n",
       "    .dataframe tbody tr th {\n",
       "        vertical-align: top;\n",
       "    }\n",
       "\n",
       "    .dataframe thead th {\n",
       "        text-align: right;\n",
       "    }\n",
       "</style>\n",
       "<table border=\"1\" class=\"dataframe\">\n",
       "  <thead>\n",
       "    <tr style=\"text-align: right;\">\n",
       "      <th></th>\n",
       "      <th>id</th>\n",
       "      <th>genre</th>\n",
       "      <th>title</th>\n",
       "      <th>keywords</th>\n",
       "      <th>hashtags</th>\n",
       "      <th>channel_name</th>\n",
       "    </tr>\n",
       "  </thead>\n",
       "  <tbody>\n",
       "    <tr>\n",
       "      <th>0</th>\n",
       "      <td>yZH6NYQjlEE</td>\n",
       "      <td>[Motivation]</td>\n",
       "      <td>[Little, girl, asks, Dr, Abdul, Kalams, SUCCES...</td>\n",
       "      <td>[Motivation]</td>\n",
       "      <td>[Motivation]</td>\n",
       "      <td>[@captiontree]</td>\n",
       "    </tr>\n",
       "    <tr>\n",
       "      <th>1</th>\n",
       "      <td>Ru8p2DNJCaU</td>\n",
       "      <td>[News]</td>\n",
       "      <td>[palki, sharmas, reply, to, a, foreign, journa...</td>\n",
       "      <td>[News, update]</td>\n",
       "      <td>[indiangdp]</td>\n",
       "      <td>[@motivationfactory.s23]</td>\n",
       "    </tr>\n",
       "    <tr>\n",
       "      <th>2</th>\n",
       "      <td>GmtOXCP5ogE</td>\n",
       "      <td>[Knowledge]</td>\n",
       "      <td>[What, is, Recession, Nitish, Rajput]</td>\n",
       "      <td>[Recession]</td>\n",
       "      <td>[indiangdp]</td>\n",
       "      <td>[@nitishrajputshorts]</td>\n",
       "    </tr>\n",
       "    <tr>\n",
       "      <th>3</th>\n",
       "      <td>ysvzPpgeQ1o</td>\n",
       "      <td>[Facts]</td>\n",
       "      <td>[How, silicon, valley, manipulate, every, person]</td>\n",
       "      <td>[Knowledge]</td>\n",
       "      <td>[shorts]</td>\n",
       "      <td>[@nitishrajputshorts]</td>\n",
       "    </tr>\n",
       "    <tr>\n",
       "      <th>4</th>\n",
       "      <td>CDFX9HG7yiM</td>\n",
       "      <td>[Experiments]</td>\n",
       "      <td>[Did, we, just, defy, the, gravity]</td>\n",
       "      <td>[teaching]</td>\n",
       "      <td>[theoryofphysics, eddycurrent]</td>\n",
       "      <td>[@Theory_of_Physics]</td>\n",
       "    </tr>\n",
       "  </tbody>\n",
       "</table>\n",
       "</div>"
      ],
      "text/plain": [
       "            id          genre  \\\n",
       "0  yZH6NYQjlEE   [Motivation]   \n",
       "1  Ru8p2DNJCaU         [News]   \n",
       "2  GmtOXCP5ogE    [Knowledge]   \n",
       "3  ysvzPpgeQ1o        [Facts]   \n",
       "4  CDFX9HG7yiM  [Experiments]   \n",
       "\n",
       "                                               title        keywords  \\\n",
       "0  [Little, girl, asks, Dr, Abdul, Kalams, SUCCES...    [Motivation]   \n",
       "1  [palki, sharmas, reply, to, a, foreign, journa...  [News, update]   \n",
       "2              [What, is, Recession, Nitish, Rajput]     [Recession]   \n",
       "3  [How, silicon, valley, manipulate, every, person]     [Knowledge]   \n",
       "4                [Did, we, just, defy, the, gravity]      [teaching]   \n",
       "\n",
       "                         hashtags              channel_name  \n",
       "0                    [Motivation]            [@captiontree]  \n",
       "1                     [indiangdp]  [@motivationfactory.s23]  \n",
       "2                     [indiangdp]     [@nitishrajputshorts]  \n",
       "3                        [shorts]     [@nitishrajputshorts]  \n",
       "4  [theoryofphysics, eddycurrent]      [@Theory_of_Physics]  "
      ]
     },
     "execution_count": 12,
     "metadata": {},
     "output_type": "execute_result"
    }
   ],
   "source": [
    "shorts.head()"
   ]
  },
  {
   "cell_type": "code",
   "execution_count": 13,
   "id": "94a37557-16e0-427f-9a7e-3f2657faae98",
   "metadata": {},
   "outputs": [],
   "source": [
    "shorts['title'] = shorts['title'].apply(lambda x:[i.replace(\"#\", \"\") for i in x])\n",
    "shorts['title'] = shorts['title'].apply(lambda x:[i.replace(\"_\", \"\") for i in x])\n",
    "shorts['title'] = shorts['title'].apply(lambda x:[i.replace(\"/\", \"\") for i in x])\n",
    "shorts['title'] = shorts['title'].apply(lambda x:[i.replace(\".\", \"\") for i in x])\n",
    "shorts['keywords'] = shorts['keywords'].apply(lambda x:[i.replace(\"#\", \"\") for i in x])\n",
    "shorts['keywords'] = shorts['keywords'].apply(lambda x:[i.replace(\"_\", \"\") for i in x])\n",
    "shorts['keywords'] = shorts['keywords'].apply(lambda x:[i.replace(\"/\", \"\") for i in x])\n",
    "shorts['keywords'] = shorts['keywords'].apply(lambda x:[i.replace(\".\", \"\") for i in x])\n",
    "shorts['hashtags'] = shorts['hashtags'].apply(lambda x:[i.replace(\"#\", \"\") for i in x])"
   ]
  },
  {
   "cell_type": "code",
   "execution_count": 14,
   "id": "106be31f-db5a-44d5-beaf-9a070fd01385",
   "metadata": {},
   "outputs": [
    {
     "data": {
      "text/html": [
       "<div>\n",
       "<style scoped>\n",
       "    .dataframe tbody tr th:only-of-type {\n",
       "        vertical-align: middle;\n",
       "    }\n",
       "\n",
       "    .dataframe tbody tr th {\n",
       "        vertical-align: top;\n",
       "    }\n",
       "\n",
       "    .dataframe thead th {\n",
       "        text-align: right;\n",
       "    }\n",
       "</style>\n",
       "<table border=\"1\" class=\"dataframe\">\n",
       "  <thead>\n",
       "    <tr style=\"text-align: right;\">\n",
       "      <th></th>\n",
       "      <th>id</th>\n",
       "      <th>genre</th>\n",
       "      <th>title</th>\n",
       "      <th>keywords</th>\n",
       "      <th>hashtags</th>\n",
       "      <th>channel_name</th>\n",
       "    </tr>\n",
       "  </thead>\n",
       "  <tbody>\n",
       "    <tr>\n",
       "      <th>0</th>\n",
       "      <td>yZH6NYQjlEE</td>\n",
       "      <td>[Motivation]</td>\n",
       "      <td>[Little, girl, asks, Dr, Abdul, Kalams, SUCCES...</td>\n",
       "      <td>[Motivation]</td>\n",
       "      <td>[Motivation]</td>\n",
       "      <td>[@captiontree]</td>\n",
       "    </tr>\n",
       "    <tr>\n",
       "      <th>1</th>\n",
       "      <td>Ru8p2DNJCaU</td>\n",
       "      <td>[News]</td>\n",
       "      <td>[palki, sharmas, reply, to, a, foreign, journa...</td>\n",
       "      <td>[News, update]</td>\n",
       "      <td>[indiangdp]</td>\n",
       "      <td>[@motivationfactory.s23]</td>\n",
       "    </tr>\n",
       "    <tr>\n",
       "      <th>2</th>\n",
       "      <td>GmtOXCP5ogE</td>\n",
       "      <td>[Knowledge]</td>\n",
       "      <td>[What, is, Recession, Nitish, Rajput]</td>\n",
       "      <td>[Recession]</td>\n",
       "      <td>[indiangdp]</td>\n",
       "      <td>[@nitishrajputshorts]</td>\n",
       "    </tr>\n",
       "    <tr>\n",
       "      <th>3</th>\n",
       "      <td>ysvzPpgeQ1o</td>\n",
       "      <td>[Facts]</td>\n",
       "      <td>[How, silicon, valley, manipulate, every, person]</td>\n",
       "      <td>[Knowledge]</td>\n",
       "      <td>[shorts]</td>\n",
       "      <td>[@nitishrajputshorts]</td>\n",
       "    </tr>\n",
       "    <tr>\n",
       "      <th>4</th>\n",
       "      <td>CDFX9HG7yiM</td>\n",
       "      <td>[Experiments]</td>\n",
       "      <td>[Did, we, just, defy, the, gravity]</td>\n",
       "      <td>[teaching]</td>\n",
       "      <td>[theoryofphysics, eddycurrent]</td>\n",
       "      <td>[@Theory_of_Physics]</td>\n",
       "    </tr>\n",
       "  </tbody>\n",
       "</table>\n",
       "</div>"
      ],
      "text/plain": [
       "            id          genre  \\\n",
       "0  yZH6NYQjlEE   [Motivation]   \n",
       "1  Ru8p2DNJCaU         [News]   \n",
       "2  GmtOXCP5ogE    [Knowledge]   \n",
       "3  ysvzPpgeQ1o        [Facts]   \n",
       "4  CDFX9HG7yiM  [Experiments]   \n",
       "\n",
       "                                               title        keywords  \\\n",
       "0  [Little, girl, asks, Dr, Abdul, Kalams, SUCCES...    [Motivation]   \n",
       "1  [palki, sharmas, reply, to, a, foreign, journa...  [News, update]   \n",
       "2              [What, is, Recession, Nitish, Rajput]     [Recession]   \n",
       "3  [How, silicon, valley, manipulate, every, person]     [Knowledge]   \n",
       "4                [Did, we, just, defy, the, gravity]      [teaching]   \n",
       "\n",
       "                         hashtags              channel_name  \n",
       "0                    [Motivation]            [@captiontree]  \n",
       "1                     [indiangdp]  [@motivationfactory.s23]  \n",
       "2                     [indiangdp]     [@nitishrajputshorts]  \n",
       "3                        [shorts]     [@nitishrajputshorts]  \n",
       "4  [theoryofphysics, eddycurrent]      [@Theory_of_Physics]  "
      ]
     },
     "execution_count": 14,
     "metadata": {},
     "output_type": "execute_result"
    }
   ],
   "source": [
    "shorts.head()"
   ]
  },
  {
   "cell_type": "code",
   "execution_count": 15,
   "id": "ec490ff1-76ed-470f-b42e-368fdbb86391",
   "metadata": {},
   "outputs": [],
   "source": [
    "\n",
    "shorts['hashtags'] = shorts['hashtags'].apply(lambda x:[i.replace(\" \", \"\") for i in x])\n",
    "shorts['channel_name'] = shorts['channel_name'].apply(lambda x:[i.replace(\"@\", \"\") for i in x])"
   ]
  },
  {
   "cell_type": "code",
   "execution_count": 16,
   "id": "9b7f61fe-71ca-4433-94e8-7a26c1f7d818",
   "metadata": {},
   "outputs": [
    {
     "data": {
      "text/html": [
       "<div>\n",
       "<style scoped>\n",
       "    .dataframe tbody tr th:only-of-type {\n",
       "        vertical-align: middle;\n",
       "    }\n",
       "\n",
       "    .dataframe tbody tr th {\n",
       "        vertical-align: top;\n",
       "    }\n",
       "\n",
       "    .dataframe thead th {\n",
       "        text-align: right;\n",
       "    }\n",
       "</style>\n",
       "<table border=\"1\" class=\"dataframe\">\n",
       "  <thead>\n",
       "    <tr style=\"text-align: right;\">\n",
       "      <th></th>\n",
       "      <th>id</th>\n",
       "      <th>genre</th>\n",
       "      <th>title</th>\n",
       "      <th>keywords</th>\n",
       "      <th>hashtags</th>\n",
       "      <th>channel_name</th>\n",
       "    </tr>\n",
       "  </thead>\n",
       "  <tbody>\n",
       "    <tr>\n",
       "      <th>0</th>\n",
       "      <td>yZH6NYQjlEE</td>\n",
       "      <td>[Motivation]</td>\n",
       "      <td>[Little, girl, asks, Dr, Abdul, Kalams, SUCCES...</td>\n",
       "      <td>[Motivation]</td>\n",
       "      <td>[Motivation]</td>\n",
       "      <td>[captiontree]</td>\n",
       "    </tr>\n",
       "    <tr>\n",
       "      <th>1</th>\n",
       "      <td>Ru8p2DNJCaU</td>\n",
       "      <td>[News]</td>\n",
       "      <td>[palki, sharmas, reply, to, a, foreign, journa...</td>\n",
       "      <td>[News, update]</td>\n",
       "      <td>[indiangdp]</td>\n",
       "      <td>[motivationfactory.s23]</td>\n",
       "    </tr>\n",
       "    <tr>\n",
       "      <th>2</th>\n",
       "      <td>GmtOXCP5ogE</td>\n",
       "      <td>[Knowledge]</td>\n",
       "      <td>[What, is, Recession, Nitish, Rajput]</td>\n",
       "      <td>[Recession]</td>\n",
       "      <td>[indiangdp]</td>\n",
       "      <td>[nitishrajputshorts]</td>\n",
       "    </tr>\n",
       "    <tr>\n",
       "      <th>3</th>\n",
       "      <td>ysvzPpgeQ1o</td>\n",
       "      <td>[Facts]</td>\n",
       "      <td>[How, silicon, valley, manipulate, every, person]</td>\n",
       "      <td>[Knowledge]</td>\n",
       "      <td>[shorts]</td>\n",
       "      <td>[nitishrajputshorts]</td>\n",
       "    </tr>\n",
       "    <tr>\n",
       "      <th>4</th>\n",
       "      <td>CDFX9HG7yiM</td>\n",
       "      <td>[Experiments]</td>\n",
       "      <td>[Did, we, just, defy, the, gravity]</td>\n",
       "      <td>[teaching]</td>\n",
       "      <td>[theoryofphysics, eddycurrent]</td>\n",
       "      <td>[Theory_of_Physics]</td>\n",
       "    </tr>\n",
       "  </tbody>\n",
       "</table>\n",
       "</div>"
      ],
      "text/plain": [
       "            id          genre  \\\n",
       "0  yZH6NYQjlEE   [Motivation]   \n",
       "1  Ru8p2DNJCaU         [News]   \n",
       "2  GmtOXCP5ogE    [Knowledge]   \n",
       "3  ysvzPpgeQ1o        [Facts]   \n",
       "4  CDFX9HG7yiM  [Experiments]   \n",
       "\n",
       "                                               title        keywords  \\\n",
       "0  [Little, girl, asks, Dr, Abdul, Kalams, SUCCES...    [Motivation]   \n",
       "1  [palki, sharmas, reply, to, a, foreign, journa...  [News, update]   \n",
       "2              [What, is, Recession, Nitish, Rajput]     [Recession]   \n",
       "3  [How, silicon, valley, manipulate, every, person]     [Knowledge]   \n",
       "4                [Did, we, just, defy, the, gravity]      [teaching]   \n",
       "\n",
       "                         hashtags             channel_name  \n",
       "0                    [Motivation]            [captiontree]  \n",
       "1                     [indiangdp]  [motivationfactory.s23]  \n",
       "2                     [indiangdp]     [nitishrajputshorts]  \n",
       "3                        [shorts]     [nitishrajputshorts]  \n",
       "4  [theoryofphysics, eddycurrent]      [Theory_of_Physics]  "
      ]
     },
     "execution_count": 16,
     "metadata": {},
     "output_type": "execute_result"
    }
   ],
   "source": [
    "shorts.head()"
   ]
  },
  {
   "cell_type": "code",
   "execution_count": 17,
   "id": "d900683b-8e07-414e-8db6-08e89013960f",
   "metadata": {},
   "outputs": [],
   "source": [
    "shorts['tags'] = shorts['genre'] + shorts['title'] + shorts['keywords'] + shorts['hashtags'] + shorts['channel_name']"
   ]
  },
  {
   "cell_type": "code",
   "execution_count": 18,
   "id": "dbb20d5a-6c1d-48f3-8859-5f3da242cbc6",
   "metadata": {},
   "outputs": [
    {
     "data": {
      "text/html": [
       "<div>\n",
       "<style scoped>\n",
       "    .dataframe tbody tr th:only-of-type {\n",
       "        vertical-align: middle;\n",
       "    }\n",
       "\n",
       "    .dataframe tbody tr th {\n",
       "        vertical-align: top;\n",
       "    }\n",
       "\n",
       "    .dataframe thead th {\n",
       "        text-align: right;\n",
       "    }\n",
       "</style>\n",
       "<table border=\"1\" class=\"dataframe\">\n",
       "  <thead>\n",
       "    <tr style=\"text-align: right;\">\n",
       "      <th></th>\n",
       "      <th>id</th>\n",
       "      <th>genre</th>\n",
       "      <th>title</th>\n",
       "      <th>keywords</th>\n",
       "      <th>hashtags</th>\n",
       "      <th>channel_name</th>\n",
       "      <th>tags</th>\n",
       "    </tr>\n",
       "  </thead>\n",
       "  <tbody>\n",
       "    <tr>\n",
       "      <th>0</th>\n",
       "      <td>yZH6NYQjlEE</td>\n",
       "      <td>[Motivation]</td>\n",
       "      <td>[Little, girl, asks, Dr, Abdul, Kalams, SUCCES...</td>\n",
       "      <td>[Motivation]</td>\n",
       "      <td>[Motivation]</td>\n",
       "      <td>[captiontree]</td>\n",
       "      <td>[Motivation, Little, girl, asks, Dr, Abdul, Ka...</td>\n",
       "    </tr>\n",
       "    <tr>\n",
       "      <th>1</th>\n",
       "      <td>Ru8p2DNJCaU</td>\n",
       "      <td>[News]</td>\n",
       "      <td>[palki, sharmas, reply, to, a, foreign, journa...</td>\n",
       "      <td>[News, update]</td>\n",
       "      <td>[indiangdp]</td>\n",
       "      <td>[motivationfactory.s23]</td>\n",
       "      <td>[News, palki, sharmas, reply, to, a, foreign, ...</td>\n",
       "    </tr>\n",
       "    <tr>\n",
       "      <th>2</th>\n",
       "      <td>GmtOXCP5ogE</td>\n",
       "      <td>[Knowledge]</td>\n",
       "      <td>[What, is, Recession, Nitish, Rajput]</td>\n",
       "      <td>[Recession]</td>\n",
       "      <td>[indiangdp]</td>\n",
       "      <td>[nitishrajputshorts]</td>\n",
       "      <td>[Knowledge, What, is, Recession, Nitish, Rajpu...</td>\n",
       "    </tr>\n",
       "    <tr>\n",
       "      <th>3</th>\n",
       "      <td>ysvzPpgeQ1o</td>\n",
       "      <td>[Facts]</td>\n",
       "      <td>[How, silicon, valley, manipulate, every, person]</td>\n",
       "      <td>[Knowledge]</td>\n",
       "      <td>[shorts]</td>\n",
       "      <td>[nitishrajputshorts]</td>\n",
       "      <td>[Facts, How, silicon, valley, manipulate, ever...</td>\n",
       "    </tr>\n",
       "    <tr>\n",
       "      <th>4</th>\n",
       "      <td>CDFX9HG7yiM</td>\n",
       "      <td>[Experiments]</td>\n",
       "      <td>[Did, we, just, defy, the, gravity]</td>\n",
       "      <td>[teaching]</td>\n",
       "      <td>[theoryofphysics, eddycurrent]</td>\n",
       "      <td>[Theory_of_Physics]</td>\n",
       "      <td>[Experiments, Did, we, just, defy, the, gravit...</td>\n",
       "    </tr>\n",
       "  </tbody>\n",
       "</table>\n",
       "</div>"
      ],
      "text/plain": [
       "            id          genre  \\\n",
       "0  yZH6NYQjlEE   [Motivation]   \n",
       "1  Ru8p2DNJCaU         [News]   \n",
       "2  GmtOXCP5ogE    [Knowledge]   \n",
       "3  ysvzPpgeQ1o        [Facts]   \n",
       "4  CDFX9HG7yiM  [Experiments]   \n",
       "\n",
       "                                               title        keywords  \\\n",
       "0  [Little, girl, asks, Dr, Abdul, Kalams, SUCCES...    [Motivation]   \n",
       "1  [palki, sharmas, reply, to, a, foreign, journa...  [News, update]   \n",
       "2              [What, is, Recession, Nitish, Rajput]     [Recession]   \n",
       "3  [How, silicon, valley, manipulate, every, person]     [Knowledge]   \n",
       "4                [Did, we, just, defy, the, gravity]      [teaching]   \n",
       "\n",
       "                         hashtags             channel_name  \\\n",
       "0                    [Motivation]            [captiontree]   \n",
       "1                     [indiangdp]  [motivationfactory.s23]   \n",
       "2                     [indiangdp]     [nitishrajputshorts]   \n",
       "3                        [shorts]     [nitishrajputshorts]   \n",
       "4  [theoryofphysics, eddycurrent]      [Theory_of_Physics]   \n",
       "\n",
       "                                                tags  \n",
       "0  [Motivation, Little, girl, asks, Dr, Abdul, Ka...  \n",
       "1  [News, palki, sharmas, reply, to, a, foreign, ...  \n",
       "2  [Knowledge, What, is, Recession, Nitish, Rajpu...  \n",
       "3  [Facts, How, silicon, valley, manipulate, ever...  \n",
       "4  [Experiments, Did, we, just, defy, the, gravit...  "
      ]
     },
     "execution_count": 18,
     "metadata": {},
     "output_type": "execute_result"
    }
   ],
   "source": [
    "shorts.head()"
   ]
  },
  {
   "cell_type": "code",
   "execution_count": 19,
   "id": "b742a443-a476-42e7-9cab-131b0e68dc0f",
   "metadata": {},
   "outputs": [],
   "source": [
    "newdf = shorts[['id', 'title', 'tags']]"
   ]
  },
  {
   "cell_type": "code",
   "execution_count": 21,
   "id": "dbcaddab-cd08-42c7-ad23-efc50ad472b8",
   "metadata": {},
   "outputs": [
    {
     "data": {
      "text/html": [
       "<div>\n",
       "<style scoped>\n",
       "    .dataframe tbody tr th:only-of-type {\n",
       "        vertical-align: middle;\n",
       "    }\n",
       "\n",
       "    .dataframe tbody tr th {\n",
       "        vertical-align: top;\n",
       "    }\n",
       "\n",
       "    .dataframe thead th {\n",
       "        text-align: right;\n",
       "    }\n",
       "</style>\n",
       "<table border=\"1\" class=\"dataframe\">\n",
       "  <thead>\n",
       "    <tr style=\"text-align: right;\">\n",
       "      <th></th>\n",
       "      <th>id</th>\n",
       "      <th>title</th>\n",
       "      <th>tags</th>\n",
       "    </tr>\n",
       "  </thead>\n",
       "  <tbody>\n",
       "    <tr>\n",
       "      <th>0</th>\n",
       "      <td>yZH6NYQjlEE</td>\n",
       "      <td>[Little, girl, asks, Dr, Abdul, Kalams, SUCCES...</td>\n",
       "      <td>[Motivation, Little, girl, asks, Dr, Abdul, Ka...</td>\n",
       "    </tr>\n",
       "    <tr>\n",
       "      <th>1</th>\n",
       "      <td>Ru8p2DNJCaU</td>\n",
       "      <td>[palki, sharmas, reply, to, a, foreign, journa...</td>\n",
       "      <td>[News, palki, sharmas, reply, to, a, foreign, ...</td>\n",
       "    </tr>\n",
       "    <tr>\n",
       "      <th>2</th>\n",
       "      <td>GmtOXCP5ogE</td>\n",
       "      <td>[What, is, Recession, Nitish, Rajput]</td>\n",
       "      <td>[Knowledge, What, is, Recession, Nitish, Rajpu...</td>\n",
       "    </tr>\n",
       "    <tr>\n",
       "      <th>3</th>\n",
       "      <td>ysvzPpgeQ1o</td>\n",
       "      <td>[How, silicon, valley, manipulate, every, person]</td>\n",
       "      <td>[Facts, How, silicon, valley, manipulate, ever...</td>\n",
       "    </tr>\n",
       "    <tr>\n",
       "      <th>4</th>\n",
       "      <td>CDFX9HG7yiM</td>\n",
       "      <td>[Did, we, just, defy, the, gravity]</td>\n",
       "      <td>[Experiments, Did, we, just, defy, the, gravit...</td>\n",
       "    </tr>\n",
       "  </tbody>\n",
       "</table>\n",
       "</div>"
      ],
      "text/plain": [
       "            id                                              title  \\\n",
       "0  yZH6NYQjlEE  [Little, girl, asks, Dr, Abdul, Kalams, SUCCES...   \n",
       "1  Ru8p2DNJCaU  [palki, sharmas, reply, to, a, foreign, journa...   \n",
       "2  GmtOXCP5ogE              [What, is, Recession, Nitish, Rajput]   \n",
       "3  ysvzPpgeQ1o  [How, silicon, valley, manipulate, every, person]   \n",
       "4  CDFX9HG7yiM                [Did, we, just, defy, the, gravity]   \n",
       "\n",
       "                                                tags  \n",
       "0  [Motivation, Little, girl, asks, Dr, Abdul, Ka...  \n",
       "1  [News, palki, sharmas, reply, to, a, foreign, ...  \n",
       "2  [Knowledge, What, is, Recession, Nitish, Rajpu...  \n",
       "3  [Facts, How, silicon, valley, manipulate, ever...  \n",
       "4  [Experiments, Did, we, just, defy, the, gravit...  "
      ]
     },
     "execution_count": 21,
     "metadata": {},
     "output_type": "execute_result"
    }
   ],
   "source": [
    "newdf.head()"
   ]
  },
  {
   "cell_type": "code",
   "execution_count": 22,
   "id": "2922cee1-f5bd-428c-8efd-60824883532f",
   "metadata": {},
   "outputs": [
    {
     "name": "stderr",
     "output_type": "stream",
     "text": [
      "C:\\Users\\alokb\\AppData\\Local\\Temp\\ipykernel_5736\\2433798782.py:1: SettingWithCopyWarning: \n",
      "A value is trying to be set on a copy of a slice from a DataFrame.\n",
      "Try using .loc[row_indexer,col_indexer] = value instead\n",
      "\n",
      "See the caveats in the documentation: https://pandas.pydata.org/pandas-docs/stable/user_guide/indexing.html#returning-a-view-versus-a-copy\n",
      "  newdf['tags'] = newdf['tags'].apply(lambda x: \" \".join(x))\n"
     ]
    }
   ],
   "source": [
    "newdf['tags'] = newdf['tags'].apply(lambda x: \" \".join(x))"
   ]
  },
  {
   "cell_type": "code",
   "execution_count": 23,
   "id": "5a91468e-4bc6-40f9-9a54-bfd98d33f656",
   "metadata": {},
   "outputs": [
    {
     "data": {
      "text/plain": [
       "'Motivation Little girl asks Dr Abdul Kalams SUCCESS MANTRA MUST WATCH Motivation Motivation captiontree'"
      ]
     },
     "execution_count": 23,
     "metadata": {},
     "output_type": "execute_result"
    }
   ],
   "source": [
    "newdf['tags'][0]"
   ]
  },
  {
   "cell_type": "code",
   "execution_count": 24,
   "id": "a8c59d96-df1f-46d5-be43-3592d8249d1b",
   "metadata": {},
   "outputs": [
    {
     "name": "stderr",
     "output_type": "stream",
     "text": [
      "C:\\Users\\alokb\\AppData\\Local\\Temp\\ipykernel_5736\\3053503324.py:1: SettingWithCopyWarning: \n",
      "A value is trying to be set on a copy of a slice from a DataFrame.\n",
      "Try using .loc[row_indexer,col_indexer] = value instead\n",
      "\n",
      "See the caveats in the documentation: https://pandas.pydata.org/pandas-docs/stable/user_guide/indexing.html#returning-a-view-versus-a-copy\n",
      "  newdf['tags'] = newdf['tags'].apply(lambda x: x.lower())\n"
     ]
    }
   ],
   "source": [
    "newdf['tags'] = newdf['tags'].apply(lambda x: x.lower())"
   ]
  },
  {
   "cell_type": "code",
   "execution_count": 25,
   "id": "617f91da-4558-439d-abf8-f92528689e3d",
   "metadata": {},
   "outputs": [],
   "source": [
    "import nltk\n",
    "from nltk.stem.porter import PorterStemmer\n",
    "ps = PorterStemmer()"
   ]
  },
  {
   "cell_type": "code",
   "execution_count": 26,
   "id": "8a25436e-0955-4de2-890a-493a7df8ff25",
   "metadata": {},
   "outputs": [],
   "source": [
    "def stem(text):\n",
    "    y = []\n",
    "    for i in text.split():\n",
    "        y.append(ps.stem(i))\n",
    "\n",
    "    return \" \".join(y)"
   ]
  },
  {
   "cell_type": "code",
   "execution_count": 27,
   "id": "d40a3520-86c9-4923-b937-76e55f267c13",
   "metadata": {},
   "outputs": [
    {
     "name": "stderr",
     "output_type": "stream",
     "text": [
      "C:\\Users\\alokb\\AppData\\Local\\Temp\\ipykernel_5736\\2040093980.py:1: SettingWithCopyWarning: \n",
      "A value is trying to be set on a copy of a slice from a DataFrame.\n",
      "Try using .loc[row_indexer,col_indexer] = value instead\n",
      "\n",
      "See the caveats in the documentation: https://pandas.pydata.org/pandas-docs/stable/user_guide/indexing.html#returning-a-view-versus-a-copy\n",
      "  newdf['tags'] = newdf['tags'].apply(stem)\n"
     ]
    }
   ],
   "source": [
    "newdf['tags'] = newdf['tags'].apply(stem)"
   ]
  },
  {
   "cell_type": "code",
   "execution_count": 28,
   "id": "113b09ca-2198-42d5-b0be-e7a6f66173dc",
   "metadata": {},
   "outputs": [
    {
     "data": {
      "text/plain": [
       "'motiv littl girl ask dr abdul kalam success mantra must watch motiv motiv captiontre'"
      ]
     },
     "execution_count": 28,
     "metadata": {},
     "output_type": "execute_result"
    }
   ],
   "source": [
    "newdf['tags'][0]"
   ]
  },
  {
   "cell_type": "code",
   "execution_count": 29,
   "id": "868051d8-e18c-416c-939e-9416b589bc13",
   "metadata": {},
   "outputs": [],
   "source": [
    "from sklearn.feature_extraction.text import CountVectorizer\n",
    "cv = CountVectorizer(max_features = 5000, stop_words = 'english')"
   ]
  },
  {
   "cell_type": "code",
   "execution_count": 30,
   "id": "8c7f54bf-9884-442c-9eee-18ec1d057690",
   "metadata": {},
   "outputs": [],
   "source": [
    "vectors = cv.fit_transform(newdf['tags']).toarray()"
   ]
  },
  {
   "cell_type": "code",
   "execution_count": 31,
   "id": "15a31f01-c202-4dd0-b3ec-af7abae2b981",
   "metadata": {},
   "outputs": [
    {
     "data": {
      "text/plain": [
       "(151, 1570)"
      ]
     },
     "execution_count": 31,
     "metadata": {},
     "output_type": "execute_result"
    }
   ],
   "source": [
    "vectors.shape"
   ]
  },
  {
   "cell_type": "code",
   "execution_count": 32,
   "id": "3d26fd2b-6c18-4b63-a254-ddab20f287e0",
   "metadata": {},
   "outputs": [],
   "source": [
    "from sklearn.metrics.pairwise import cosine_similarity"
   ]
  },
  {
   "cell_type": "code",
   "execution_count": 33,
   "id": "98033bf0-3495-485c-9680-27ae3c4fad32",
   "metadata": {},
   "outputs": [],
   "source": [
    "similarity = cosine_similarity(vectors)"
   ]
  },
  {
   "cell_type": "code",
   "execution_count": 34,
   "id": "0d9d6f2f-9c2b-41a5-ba83-c557b8a22300",
   "metadata": {},
   "outputs": [],
   "source": [
    "def recommend(shorts_id):\n",
    "    shorts_index = newdf[newdf['id'] == shorts_id].index[0]\n",
    "    distances = similarity[shorts_index]\n",
    "    shorts_id_list = sorted(list(enumerate(distances)), reverse =True, key = lambda x: x[1])[1:10]\n",
    "\n",
    "    for i in shorts_id_list:\n",
    "        print(newdf.iloc[i[0]].title)"
   ]
  },
  {
   "cell_type": "code",
   "execution_count": 35,
   "id": "a436a982-0c8e-4b4f-8f98-1d5860b129f4",
   "metadata": {},
   "outputs": [
    {
     "name": "stdout",
     "output_type": "stream",
     "text": [
      "['Motivational', 'Video', 'by', 'Sonu', 'Sharma']\n",
      "['The', 'west', 'simply', 'cannot', 'accept', 'Indias', 'growth', 'story', 'palki', 'sharma', 'upadhyay']\n",
      "['Why', 'did', 'I', 'take', 'drop', 'for', 'IITJEE', 'shorts', 'iit', 'iitbombay', 'jee', 'motivation', 'viral', 'trending']\n",
      "['Day', '7575', 'Hard', 'Challenge']\n",
      "['day', '1375', 'hard', 'challenge']\n",
      "['Day', '175', 'Hard', 'Challenge']\n",
      "['chal', 'hatt', 'samne', 'se', 'nahata', 'bhi', 'nhi', 'kabhi']\n",
      "['Blind', 'Ranking', 'Girls', 'Kissing']\n",
      "['ComedyFunnySoboSouth', 'Delhi', 'gurlz', 'OP', 'Sobo', 'Girl']\n"
     ]
    }
   ],
   "source": [
    "recommend('yZH6NYQjlEE')"
   ]
  },
  {
   "cell_type": "code",
   "execution_count": 36,
   "id": "c24e09f1-4056-4ba8-b138-b5f7acafb3d5",
   "metadata": {},
   "outputs": [],
   "source": [
    "import pickle"
   ]
  },
  {
   "cell_type": "code",
   "execution_count": 37,
   "id": "0aeab494-e34e-46e6-a5dd-dc2ced153010",
   "metadata": {},
   "outputs": [],
   "source": [
    "pickle.dump(newdf.to_dict(), open('shorts_dict.pkl', 'wb'))"
   ]
  },
  {
   "cell_type": "code",
   "execution_count": 38,
   "id": "16253dee-7c5e-4195-95e2-b5963888f356",
   "metadata": {},
   "outputs": [],
   "source": [
    "pickle.dump(similarity, open('similarity_upd.pkl', 'wb'))"
   ]
  },
  {
   "cell_type": "code",
   "execution_count": null,
   "id": "cd2c1848-b5f2-42ee-9925-76833c303dbd",
   "metadata": {},
   "outputs": [],
   "source": []
  }
 ],
 "metadata": {
  "kernelspec": {
   "display_name": "Python 3 (ipykernel)",
   "language": "python",
   "name": "python3"
  },
  "language_info": {
   "codemirror_mode": {
    "name": "ipython",
    "version": 3
   },
   "file_extension": ".py",
   "mimetype": "text/x-python",
   "name": "python",
   "nbconvert_exporter": "python",
   "pygments_lexer": "ipython3",
   "version": "3.11.4"
  }
 },
 "nbformat": 4,
 "nbformat_minor": 5
}
